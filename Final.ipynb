{
 "cells": [
  {
   "cell_type": "code",
   "execution_count": 50,
   "metadata": {},
   "outputs": [],
   "source": [
    "#imports here\n",
    "from selenium import webdriver as wb\n",
    "from selenium.webdriver.common.keys import Keys\n",
    "from selenium.webdriver.support import expected_conditions as EC\n",
    "from selenium.webdriver.common.by import By\n",
    "from selenium.webdriver.support.wait import WebDriverWait\n",
    "import time\n",
    "import pandas as pd\n",
    "import numpy as np"
   ]
  },
  {
   "cell_type": "code",
   "execution_count": 51,
   "metadata": {},
   "outputs": [],
   "source": [
    "#code for disabling the unnecessary notifications\n",
    "options = wb.ChromeOptions()\n",
    "prefs = {\"profile.default_content_setting_values.notifications\" : 2}\n",
    "options.add_experimental_option(\"prefs\",prefs)"
   ]
  },
  {
   "cell_type": "code",
   "execution_count": 52,
   "metadata": {},
   "outputs": [],
   "source": [
    "#specify the path to chromedriver.exe (download and save on your computer)\n",
    "driver = wb.Chrome('chromedriver.exe', options=options)\n",
    "\n"
   ]
  },
  {
   "cell_type": "code",
   "execution_count": 53,
   "metadata": {},
   "outputs": [],
   "source": [
    "#open the webpage\n",
    "driver.get(\"https://www.youtube.com/watch?v=WPtOP6vP4F0&list=UUnGNQBVa6o_Hz2ZhVEDcisA&index=501\")\n",
    "\n",
    "\n",
    "#play_all = driver.find_element_by_xpath(\"//*[@class='style-scope ytd-button-renderer style-text size-default']\")\n",
    "#play_all.click()"
   ]
  },
  {
   "cell_type": "code",
   "execution_count": 80,
   "metadata": {},
   "outputs": [],
   "source": [
    "f =pd.DataFrame()\n",
    "\n",
    "\n",
    "for i in range(1):\n",
    "    \n",
    "    all_posts = driver.find_elements_by_xpath('//*[@id=\"container\"]/h1/yt-formatted-string')\n",
    "    all_posts = [x.text for x in all_posts]\n",
    "    posts = pd.Series(all_posts, dtype='object')\n",
    "    time.sleep(0.5)\n",
    "\n",
    "    all_date =  driver.find_elements_by_xpath('/html/body/ytd-app/div/ytd-page-manager/ytd-watch-flexy/div[5]/div[1]/div/div[8]/div[2]/ytd-video-primary-info-renderer/div/div/div[1]/div[2]/yt-formatted-string')\n",
    "    all_date = [x.text for x in all_date]\n",
    "    \n",
    "    date = pd.Series(all_date, dtype='object')\n",
    "    \n",
    "    all_views = driver.find_elements_by_xpath('/html/body/ytd-app/div/ytd-page-manager/ytd-watch-flexy/div[5]/div[1]/div/div[8]/div[2]/ytd-video-primary-info-renderer/div/div/div[1]/div[1]/ytd-video-view-count-renderer/span[1]')\n",
    "    all_views = [x.text for x in all_views]\n",
    "    views = pd.Series(all_views, dtype='object')\n",
    "    \n",
    "    all_likes = driver.find_elements_by_xpath('/html/body/ytd-app/div/ytd-page-manager/ytd-watch-flexy/div[5]/div[1]/div/div[8]/div[2]/ytd-video-primary-info-renderer/div/div/div[3]/div/ytd-menu-renderer/div/ytd-toggle-button-renderer[1]/a/yt-formatted-string')\n",
    "    all_likes = [x.text for x in all_likes]\n",
    "    likes = pd.Series(all_likes, dtype='object')\n",
    "\n",
    "    all_dislikes = driver.find_elements_by_xpath('/html/body/ytd-app/div/ytd-page-manager/ytd-watch-flexy/div[5]/div[1]/div/div[8]/div[2]/ytd-video-primary-info-renderer/div/div/div[3]/div/ytd-menu-renderer/div/ytd-toggle-button-renderer[2]/a/yt-formatted-string')\n",
    "    all_dislikes = [x.text for x in all_dislikes]\n",
    "    dislikes = pd.Series(all_dislikes, dtype='int64')\n",
    "\n",
    "    all_comments = driver.find_elements_by_xpath('//*[@id=\"content-text\"]')\n",
    "    all_comments = [x.text for x in all_comments]\n",
    "    time.sleep(2)\n",
    "    comments = pd.Series(all_comments,dtype='object')\n",
    "    \n",
    "    user_comment = driver.find_elements_by_xpath('//*[@id=\"author-text\"]/span')\n",
    "    user_comment = [x.text for x in user_comment]\n",
    "    name_comment = pd.Series(user_comment, dtype='object')\n",
    "    \n",
    "    date_comment = driver.find_elements_by_xpath('//*[@id=\"header-author\"]/yt-formatted-string/a')\n",
    "    date_comment = [x.text for x in date_comment]\n",
    "    date_of_comment = pd.Series(date_comment, dtype='object')\n",
    "    \n",
    "    d='//*[@id=\"content-text\"]'\n",
    "    all_comments = driver.find_elements_by_xpath(d)\n",
    "    all_comments = [x.text for x in all_comments]\n",
    "    time.sleep(2)\n",
    "    comments = pd.Series(all_comments,dtype='object')\n",
    "    \n",
    "\n",
    "\n",
    "    \n",
    "time.sleep(1)\n",
    "df = pd.DataFrame({\"Title\":posts,\"Date of Video\": date,\"Views\":views,\"Likes\":likes,\"Dislikes\":dislikes,\"Comments\":comments,  \"User Name\": name_comment, \"Date of comment\":date_of_comment})\n",
    "f = f.append(df)\n",
    "     \n",
    "f.to_excel('Final.xlsx',index=False)"
   ]
  },
  {
   "cell_type": "code",
   "execution_count": 79,
   "metadata": {},
   "outputs": [],
   "source": [
    "a='#movie_player > div.ytp-chrome-bottom > div.ytp-chrome-controls > div.ytp-left-controls > a.ytp-next-button.ytp-button'\n",
    "next= driver.find_element_by_css_selector(a)\n",
    "time.sleep(1)\n",
    "next.click()\n",
    "\n"
   ]
  },
  {
   "cell_type": "code",
   "execution_count": null,
   "metadata": {},
   "outputs": [],
   "source": []
  },
  {
   "cell_type": "code",
   "execution_count": null,
   "metadata": {},
   "outputs": [],
   "source": []
  },
  {
   "cell_type": "code",
   "execution_count": 373,
   "metadata": {},
   "outputs": [
    {
     "ename": "SyntaxError",
     "evalue": "invalid syntax (<ipython-input-373-db2ed742355d>, line 1)",
     "output_type": "error",
     "traceback": [
      "\u001b[1;36m  File \u001b[1;32m\"<ipython-input-373-db2ed742355d>\"\u001b[1;36m, line \u001b[1;32m1\u001b[0m\n\u001b[1;33m    //*[@id=\"content-text\"]\u001b[0m\n\u001b[1;37m    ^\u001b[0m\n\u001b[1;31mSyntaxError\u001b[0m\u001b[1;31m:\u001b[0m invalid syntax\n"
     ]
    }
   ],
   "source": [
    "//*[@id=\"content-text\"]"
   ]
  },
  {
   "cell_type": "code",
   "execution_count": null,
   "metadata": {},
   "outputs": [],
   "source": [
    "#movie_player > div.ytp-chrome-bottom > div.ytp-chrome-controls > div.ytp-left-controls > a.ytp-next-button.ytp-button"
   ]
  }
 ],
 "metadata": {
  "kernelspec": {
   "display_name": "Python 3",
   "language": "python",
   "name": "python3"
  },
  "language_info": {
   "codemirror_mode": {
    "name": "ipython",
    "version": 3
   },
   "file_extension": ".py",
   "mimetype": "text/x-python",
   "name": "python",
   "nbconvert_exporter": "python",
   "pygments_lexer": "ipython3",
   "version": "3.8.3"
  }
 },
 "nbformat": 4,
 "nbformat_minor": 4
}
